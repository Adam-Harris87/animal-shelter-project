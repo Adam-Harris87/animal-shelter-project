{
 "cells": [
  {
   "cell_type": "code",
   "execution_count": 1,
   "id": "5d66d266",
   "metadata": {},
   "outputs": [],
   "source": [
    "# import data manipulation libraries\n",
    "import numpy as np\n",
    "import pandas as pd\n",
    "# import visualization tools\n",
    "import matplotlib.pyplot as plt\n",
    "import seaborn as sns\n",
    "# import statistical tools\n",
    "from scipy import stats\n",
    "# import data wrangle functions\n",
    "import wrangle_austin_shelter as w"
   ]
  },
  {
   "cell_type": "code",
   "execution_count": null,
   "id": "aa07e5ac",
   "metadata": {},
   "outputs": [],
   "source": [
    "animals, train, validate, test = w.wrangle_austin_animal_shelter()"
   ]
  },
  {
   "cell_type": "code",
   "execution_count": 3,
   "id": "74d9f549",
   "metadata": {},
   "outputs": [
    {
     "data": {
      "text/html": [
       "<div>\n",
       "<style scoped>\n",
       "    .dataframe tbody tr th:only-of-type {\n",
       "        vertical-align: middle;\n",
       "    }\n",
       "\n",
       "    .dataframe tbody tr th {\n",
       "        vertical-align: top;\n",
       "    }\n",
       "\n",
       "    .dataframe thead th {\n",
       "        text-align: right;\n",
       "    }\n",
       "</style>\n",
       "<table border=\"1\" class=\"dataframe\">\n",
       "  <thead>\n",
       "    <tr style=\"text-align: right;\">\n",
       "      <th></th>\n",
       "      <th>animal_id</th>\n",
       "      <th>name</th>\n",
       "      <th>datetime_in</th>\n",
       "      <th>monthyear_in</th>\n",
       "      <th>found_location</th>\n",
       "      <th>intake_type</th>\n",
       "      <th>intake_condition</th>\n",
       "      <th>animal_type</th>\n",
       "      <th>sex_upon_intake</th>\n",
       "      <th>age_upon_intake</th>\n",
       "      <th>breed</th>\n",
       "      <th>color</th>\n",
       "      <th>datetime_out</th>\n",
       "      <th>monthyear_out</th>\n",
       "      <th>date_of_birth</th>\n",
       "      <th>outcome_type</th>\n",
       "      <th>outcome_subtype</th>\n",
       "      <th>sex_upon_outcome</th>\n",
       "      <th>age_upon_outcome</th>\n",
       "      <th>outcome</th>\n",
       "    </tr>\n",
       "  </thead>\n",
       "  <tbody>\n",
       "    <tr>\n",
       "      <th>0</th>\n",
       "      <td>A665644</td>\n",
       "      <td>NaN</td>\n",
       "      <td>2013-10-21 07:59:00</td>\n",
       "      <td>October 2013</td>\n",
       "      <td>Austin (TX)</td>\n",
       "      <td>Stray</td>\n",
       "      <td>Sick</td>\n",
       "      <td>Cat</td>\n",
       "      <td>Intact Female</td>\n",
       "      <td>4 weeks</td>\n",
       "      <td>Domestic Shorthair Mix</td>\n",
       "      <td>Calico</td>\n",
       "      <td>2013-10-21 11:39:00</td>\n",
       "      <td>Oct 2013</td>\n",
       "      <td>09/21/2013</td>\n",
       "      <td>Transfer</td>\n",
       "      <td>Partner</td>\n",
       "      <td>Intact Female</td>\n",
       "      <td>4 weeks</td>\n",
       "      <td>transfered</td>\n",
       "    </tr>\n",
       "    <tr>\n",
       "      <th>1</th>\n",
       "      <td>A665739</td>\n",
       "      <td>*Alana</td>\n",
       "      <td>2013-10-22 11:11:00</td>\n",
       "      <td>October 2013</td>\n",
       "      <td>Austin (TX)</td>\n",
       "      <td>Stray</td>\n",
       "      <td>Normal</td>\n",
       "      <td>Cat</td>\n",
       "      <td>Intact Female</td>\n",
       "      <td>1 month</td>\n",
       "      <td>Domestic Medium Hair Mix</td>\n",
       "      <td>Black</td>\n",
       "      <td>2013-12-20 17:36:00</td>\n",
       "      <td>Dec 2013</td>\n",
       "      <td>09/16/2013</td>\n",
       "      <td>Adoption</td>\n",
       "      <td>Foster</td>\n",
       "      <td>Spayed Female</td>\n",
       "      <td>3 months</td>\n",
       "      <td>adopted</td>\n",
       "    </tr>\n",
       "    <tr>\n",
       "      <th>2</th>\n",
       "      <td>A665763</td>\n",
       "      <td>NaN</td>\n",
       "      <td>2013-10-22 15:10:00</td>\n",
       "      <td>October 2013</td>\n",
       "      <td>E Riverside Dr/Royal Crest Dr in Austin (TX)</td>\n",
       "      <td>Stray</td>\n",
       "      <td>Normal</td>\n",
       "      <td>Dog</td>\n",
       "      <td>Intact Male</td>\n",
       "      <td>4 months</td>\n",
       "      <td>Cairn Terrier Mix</td>\n",
       "      <td>Tan/White</td>\n",
       "      <td>2013-10-26 18:32:00</td>\n",
       "      <td>Oct 2013</td>\n",
       "      <td>06/22/2013</td>\n",
       "      <td>Adoption</td>\n",
       "      <td>NaN</td>\n",
       "      <td>Neutered Male</td>\n",
       "      <td>4 months</td>\n",
       "      <td>adopted</td>\n",
       "    </tr>\n",
       "    <tr>\n",
       "      <th>3</th>\n",
       "      <td>A379998</td>\n",
       "      <td>Disciple</td>\n",
       "      <td>2013-10-23 11:42:00</td>\n",
       "      <td>October 2013</td>\n",
       "      <td>51St And Grover in Austin (TX)</td>\n",
       "      <td>Stray</td>\n",
       "      <td>Normal</td>\n",
       "      <td>Dog</td>\n",
       "      <td>Intact Male</td>\n",
       "      <td>10 years</td>\n",
       "      <td>Pit Bull</td>\n",
       "      <td>Black</td>\n",
       "      <td>2013-10-25 12:53:00</td>\n",
       "      <td>Oct 2013</td>\n",
       "      <td>02/21/2003</td>\n",
       "      <td>Return to Owner</td>\n",
       "      <td>NaN</td>\n",
       "      <td>Intact Male</td>\n",
       "      <td>10 years</td>\n",
       "      <td>returned</td>\n",
       "    </tr>\n",
       "    <tr>\n",
       "      <th>4</th>\n",
       "      <td>A634503</td>\n",
       "      <td>Otter</td>\n",
       "      <td>2013-10-01 14:49:00</td>\n",
       "      <td>October 2013</td>\n",
       "      <td>Manor (TX)</td>\n",
       "      <td>Owner Surrender</td>\n",
       "      <td>Normal</td>\n",
       "      <td>Dog</td>\n",
       "      <td>Spayed Female</td>\n",
       "      <td>2 years</td>\n",
       "      <td>Norfolk Terrier Mix</td>\n",
       "      <td>Tan</td>\n",
       "      <td>2013-10-02 12:40:00</td>\n",
       "      <td>Oct 2013</td>\n",
       "      <td>08/11/2011</td>\n",
       "      <td>Adoption</td>\n",
       "      <td>NaN</td>\n",
       "      <td>Spayed Female</td>\n",
       "      <td>2 years</td>\n",
       "      <td>adopted</td>\n",
       "    </tr>\n",
       "  </tbody>\n",
       "</table>\n",
       "</div>"
      ],
      "text/plain": [
       "  animal_id      name         datetime_in  monthyear_in  \\\n",
       "0   A665644       NaN 2013-10-21 07:59:00  October 2013   \n",
       "1   A665739    *Alana 2013-10-22 11:11:00  October 2013   \n",
       "2   A665763       NaN 2013-10-22 15:10:00  October 2013   \n",
       "3   A379998  Disciple 2013-10-23 11:42:00  October 2013   \n",
       "4   A634503     Otter 2013-10-01 14:49:00  October 2013   \n",
       "\n",
       "                                 found_location      intake_type  \\\n",
       "0                                   Austin (TX)            Stray   \n",
       "1                                   Austin (TX)            Stray   \n",
       "2  E Riverside Dr/Royal Crest Dr in Austin (TX)            Stray   \n",
       "3                51St And Grover in Austin (TX)            Stray   \n",
       "4                                    Manor (TX)  Owner Surrender   \n",
       "\n",
       "  intake_condition animal_type sex_upon_intake age_upon_intake  \\\n",
       "0             Sick         Cat   Intact Female         4 weeks   \n",
       "1           Normal         Cat   Intact Female         1 month   \n",
       "2           Normal         Dog     Intact Male        4 months   \n",
       "3           Normal         Dog     Intact Male        10 years   \n",
       "4           Normal         Dog   Spayed Female         2 years   \n",
       "\n",
       "                      breed      color        datetime_out monthyear_out  \\\n",
       "0    Domestic Shorthair Mix     Calico 2013-10-21 11:39:00      Oct 2013   \n",
       "1  Domestic Medium Hair Mix      Black 2013-12-20 17:36:00      Dec 2013   \n",
       "2         Cairn Terrier Mix  Tan/White 2013-10-26 18:32:00      Oct 2013   \n",
       "3                  Pit Bull      Black 2013-10-25 12:53:00      Oct 2013   \n",
       "4       Norfolk Terrier Mix        Tan 2013-10-02 12:40:00      Oct 2013   \n",
       "\n",
       "  date_of_birth     outcome_type outcome_subtype sex_upon_outcome  \\\n",
       "0    09/21/2013         Transfer         Partner    Intact Female   \n",
       "1    09/16/2013         Adoption          Foster    Spayed Female   \n",
       "2    06/22/2013         Adoption             NaN    Neutered Male   \n",
       "3    02/21/2003  Return to Owner             NaN      Intact Male   \n",
       "4    08/11/2011         Adoption             NaN    Spayed Female   \n",
       "\n",
       "  age_upon_outcome     outcome  \n",
       "0          4 weeks  transfered  \n",
       "1         3 months     adopted  \n",
       "2         4 months     adopted  \n",
       "3         10 years    returned  \n",
       "4          2 years     adopted  "
      ]
     },
     "execution_count": 3,
     "metadata": {},
     "output_type": "execute_result"
    }
   ],
   "source": [
    "animals.head()"
   ]
  },
  {
   "cell_type": "code",
   "execution_count": null,
   "id": "efbe47c0",
   "metadata": {},
   "outputs": [],
   "source": [
    "animals.datetime_in.min(), animals.datetime_in.max()"
   ]
  },
  {
   "cell_type": "code",
   "execution_count": null,
   "id": "6b7b0de0",
   "metadata": {},
   "outputs": [],
   "source": [
    "animals.isna().sum()"
   ]
  },
  {
   "cell_type": "code",
   "execution_count": null,
   "id": "9c146f85",
   "metadata": {},
   "outputs": [],
   "source": [
    "animals[animals.sex_upon_intake.isna() == True]"
   ]
  },
  {
   "cell_type": "markdown",
   "id": "4d6ccbc1",
   "metadata": {},
   "source": [
    "#### one of the na values of the sex_upon_intake is a Test, since there is only 1 other it won't make much difference to drop that row"
   ]
  },
  {
   "cell_type": "code",
   "execution_count": null,
   "id": "112e7762",
   "metadata": {},
   "outputs": [],
   "source": [
    "animals = animals[animals.sex_upon_intake.isna() == False]"
   ]
  },
  {
   "cell_type": "code",
   "execution_count": null,
   "id": "1b5a49e1",
   "metadata": {},
   "outputs": [],
   "source": [
    "animals.isna().sum()"
   ]
  },
  {
   "cell_type": "code",
   "execution_count": null,
   "id": "a77bc180",
   "metadata": {},
   "outputs": [],
   "source": [
    "animals.outcome_type.value_counts(dropna=False)"
   ]
  },
  {
   "cell_type": "code",
   "execution_count": null,
   "id": "accc8ccc",
   "metadata": {},
   "outputs": [],
   "source": [
    "animals[animals.outcome_type.isna() == True].sort_values('animal_id')"
   ]
  },
  {
   "cell_type": "code",
   "execution_count": null,
   "id": "60e7571a",
   "metadata": {},
   "outputs": [],
   "source": [
    "train.intake_type.value_counts()"
   ]
  },
  {
   "cell_type": "code",
   "execution_count": null,
   "id": "1f49d564",
   "metadata": {},
   "outputs": [],
   "source": [
    "animals[animals.intake_type == 'Wildlife']"
   ]
  },
  {
   "cell_type": "code",
   "execution_count": null,
   "id": "ef77cac5",
   "metadata": {},
   "outputs": [],
   "source": [
    "animals[animals.intake_type == 'Wildlife'].outcome_type.value_counts()"
   ]
  },
  {
   "cell_type": "code",
   "execution_count": null,
   "id": "3819d793",
   "metadata": {},
   "outputs": [],
   "source": [
    "((72 + 14 + 7 + 4) / 5789) * 100"
   ]
  },
  {
   "cell_type": "markdown",
   "id": "7c78f047",
   "metadata": {},
   "source": [
    "#### Looks like things don't turn out very well for wildlife that gets sent to the animal shelter, only 1.68 % survive a trip to the animal shelter"
   ]
  },
  {
   "cell_type": "code",
   "execution_count": null,
   "id": "41e14d45",
   "metadata": {},
   "outputs": [],
   "source": [
    "animals.animal_type.value_counts()"
   ]
  },
  {
   "cell_type": "code",
   "execution_count": null,
   "id": "9abc4f5e",
   "metadata": {},
   "outputs": [],
   "source": [
    "animals[(animals.animal_type == 'Other') & (animals.intake_type != 'Wildlife')]"
   ]
  },
  {
   "cell_type": "code",
   "execution_count": null,
   "id": "1229bc8d",
   "metadata": {},
   "outputs": [],
   "source": [
    "animals[(animals.animal_type == 'Other')\n",
    "        & (animals.intake_type != 'Wildlife')].outcome_type.value_counts()"
   ]
  },
  {
   "cell_type": "code",
   "execution_count": null,
   "id": "92553a00",
   "metadata": {},
   "outputs": [],
   "source": [
    "animals[(animals.animal_type == 'Other')\n",
    "        & (animals.intake_type != 'Wildlife')].breed.value_counts()"
   ]
  },
  {
   "cell_type": "code",
   "execution_count": null,
   "id": "a3ca70f0",
   "metadata": {},
   "outputs": [],
   "source": [
    "animals.outcome_type.value_counts(dropna=False)"
   ]
  },
  {
   "cell_type": "code",
   "execution_count": null,
   "id": "1755f30f",
   "metadata": {},
   "outputs": [],
   "source": [
    "animals.animal_type.value_counts()"
   ]
  },
  {
   "cell_type": "code",
   "execution_count": null,
   "id": "8383a174",
   "metadata": {},
   "outputs": [],
   "source": [
    "dogs = animals[animals.animal_type == 'Dog']\n",
    "cats = animals[animals.animal_type == 'Cat']\n",
    "others = animals[animals.animal_type == 'Other']\n",
    "birds = animals[animals.animal_type == 'Bird']\n",
    "livestock = animals[animals.animal_type == 'Livestock']"
   ]
  },
  {
   "cell_type": "code",
   "execution_count": null,
   "id": "5ac5df23",
   "metadata": {},
   "outputs": [],
   "source": [
    "dogs.outcome_type.value_counts()"
   ]
  },
  {
   "cell_type": "code",
   "execution_count": null,
   "id": "0abfb20e",
   "metadata": {},
   "outputs": [],
   "source": [
    "dogs.intake_type.value_counts()"
   ]
  },
  {
   "cell_type": "code",
   "execution_count": null,
   "id": "d5755b51",
   "metadata": {},
   "outputs": [],
   "source": [
    "animals.outcome_type.value_counts(dropna=False)"
   ]
  },
  {
   "cell_type": "code",
   "execution_count": null,
   "id": "8e7ac174",
   "metadata": {},
   "outputs": [],
   "source": [
    "animals[animals.outcome_type == 'Adoption'].outcome_subtype.value_counts()"
   ]
  },
  {
   "cell_type": "code",
   "execution_count": null,
   "id": "166f7954",
   "metadata": {},
   "outputs": [],
   "source": [
    "# added this to the preparation step\n",
    "\n",
    "# animals['outcome'] = np.where(animals.outcome_type == 'Adoption', 'adopted',\n",
    "#                           np.where(animals.outcome_type == 'Return to Owner', 'returned',\n",
    "#                           np.where(animals.outcome_type == 'Transfer', 'transfered',\n",
    "#                           np.where(animals.outcome_type == 'Euthanasia', 'death',\n",
    "#                           np.where(animals.outcome_type == 'Rto-Adopt', 'returned',\n",
    "#                           np.where(animals.outcome_type == 'Died', 'death',\n",
    "#                           np.where(animals.outcome_type == 'Disposal', 'death',\n",
    "#                           np.where(animals.outcome_type == 'Missing', 'unknown',\n",
    "#                           np.where(animals.outcome_type == 'Stolen', 'unknown',\n",
    "#                           np.where(animals.outcome_type == 'Relocate', 'transfered',\n",
    "#                           np.where(animals.outcome_type.isnull() == True, 'unknown', ''\n",
    "#                                   )))))))))))"
   ]
  },
  {
   "cell_type": "code",
   "execution_count": null,
   "id": "a4bbacf9",
   "metadata": {},
   "outputs": [],
   "source": [
    "animals[animals.outcome == '']"
   ]
  },
  {
   "cell_type": "code",
   "execution_count": null,
   "id": "39be16d2",
   "metadata": {},
   "outputs": [],
   "source": [
    "animals.outcome.value_counts().plot.bar()"
   ]
  },
  {
   "cell_type": "code",
   "execution_count": null,
   "id": "0310c67f",
   "metadata": {},
   "outputs": [],
   "source": [
    "deaths = animals[animals.outcome == 'death']"
   ]
  },
  {
   "cell_type": "code",
   "execution_count": null,
   "id": "590a87a5",
   "metadata": {},
   "outputs": [],
   "source": [
    "deaths = deaths.set_index('datetime_out')"
   ]
  },
  {
   "cell_type": "code",
   "execution_count": null,
   "id": "93945793",
   "metadata": {},
   "outputs": [],
   "source": [
    "deaths[deaths.intake_type != 'Wildlife'].intake_condition.value_counts()"
   ]
  },
  {
   "cell_type": "code",
   "execution_count": null,
   "id": "ea5eaa4b",
   "metadata": {},
   "outputs": [],
   "source": [
    "deaths[deaths.intake_type == 'Wildlife'].intake_condition.value_counts()"
   ]
  },
  {
   "cell_type": "code",
   "execution_count": null,
   "id": "49a33d72",
   "metadata": {},
   "outputs": [],
   "source": [
    "deaths"
   ]
  },
  {
   "cell_type": "code",
   "execution_count": null,
   "id": "ef6cea9a",
   "metadata": {},
   "outputs": [],
   "source": [
    "deaths.resample('Y').animal_id.count().plot()\n",
    "plt.title('Deaths by Year')\n",
    "plt.xlabel('Year')\n",
    "plt.ylabel('Number of Animal Deaths in Shelter')\n",
    "plt.show()"
   ]
  }
 ],
 "metadata": {
  "kernelspec": {
   "display_name": "Python 3 (ipykernel)",
   "language": "python",
   "name": "python3"
  },
  "language_info": {
   "codemirror_mode": {
    "name": "ipython",
    "version": 3
   },
   "file_extension": ".py",
   "mimetype": "text/x-python",
   "name": "python",
   "nbconvert_exporter": "python",
   "pygments_lexer": "ipython3",
   "version": "3.9.13"
  }
 },
 "nbformat": 4,
 "nbformat_minor": 5
}
