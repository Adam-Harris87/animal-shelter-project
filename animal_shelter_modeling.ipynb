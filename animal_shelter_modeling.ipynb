{
 "cells": [
  {
   "cell_type": "code",
   "execution_count": 1,
   "id": "848c4162",
   "metadata": {},
   "outputs": [],
   "source": [
    "# import data manipulation tools\n",
    "import numpy as np\n",
    "import pandas as pd\n",
    "# import visualization tools\n",
    "import seaborn as sns\n",
    "import matplotlib.pyplot as plt\n",
    "# import classification modeling functions\n",
    "from sklearn.tree import DecisionTreeClassifier, plot_tree\n",
    "from sklearn.metrics import classification_report, confusion_matrix, recall_score,\\\n",
    "accuracy_score\n",
    "from sklearn.ensemble import RandomForestClassifier\n",
    "from sklearn.neighbors import KNeighborsClassifier\n",
    "from sklearn.linear_model import LogisticRegression\n",
    "\n",
    "import wrangle_austin_shelter as w"
   ]
  },
  {
   "cell_type": "code",
   "execution_count": 2,
   "id": "075b169e",
   "metadata": {},
   "outputs": [
    {
     "name": "stdout",
     "output_type": "stream",
     "text": [
      "reading intake data from local file\n",
      "reading outcome data from local file\n"
     ]
    }
   ],
   "source": [
    "animals, train, validate, test = w.wrangle_austin_animal_shelter()"
   ]
  },
  {
   "cell_type": "code",
   "execution_count": 3,
   "id": "939ad3b8",
   "metadata": {},
   "outputs": [
    {
     "data": {
      "text/plain": [
       "Index(['animal_id', 'datetime_in', 'found_location', 'intake_type',\n",
       "       'intake_condition', 'animal_type', 'sex_upon_intake', 'age_upon_intake',\n",
       "       'breed', 'color', 'name', 'datetime_out', 'date_of_birth',\n",
       "       'outcome_type', 'sex_upon_outcome', 'age_upon_outcome',\n",
       "       'outcome_subtype', 'outcome', 'has_name', 'intake_type_encoded',\n",
       "       'intake_condition_encoded', 'animal_type_encoded',\n",
       "       'sex_upon_intake_encoded', 'breed_encoded', 'color_encoded',\n",
       "       'sex_upon_outcome_encoded', 'outcome_subtype_encoded', 'adopted',\n",
       "       'death', 'transfered'],\n",
       "      dtype='object')"
      ]
     },
     "execution_count": 3,
     "metadata": {},
     "output_type": "execute_result"
    }
   ],
   "source": [
    "train.columns"
   ]
  },
  {
   "cell_type": "code",
   "execution_count": 4,
   "id": "157fb560",
   "metadata": {},
   "outputs": [],
   "source": [
    "# train = pd.concat([train, pd.get_dummies(train.outcome)], axis=1)\n",
    "# validate = pd.concat([validate, pd.get_dummies(validate.outcome)], axis=1)\n",
    "# test = pd.concat([test, pd.get_dummies(test.outcome)], axis=1)"
   ]
  },
  {
   "cell_type": "code",
   "execution_count": 5,
   "id": "466734de",
   "metadata": {},
   "outputs": [
    {
     "data": {
      "text/html": [
       "<div>\n",
       "<style scoped>\n",
       "    .dataframe tbody tr th:only-of-type {\n",
       "        vertical-align: middle;\n",
       "    }\n",
       "\n",
       "    .dataframe tbody tr th {\n",
       "        vertical-align: top;\n",
       "    }\n",
       "\n",
       "    .dataframe thead th {\n",
       "        text-align: right;\n",
       "    }\n",
       "</style>\n",
       "<table border=\"1\" class=\"dataframe\">\n",
       "  <thead>\n",
       "    <tr style=\"text-align: right;\">\n",
       "      <th></th>\n",
       "      <th>animal_id</th>\n",
       "      <th>datetime_in</th>\n",
       "      <th>found_location</th>\n",
       "      <th>intake_type</th>\n",
       "      <th>intake_condition</th>\n",
       "      <th>animal_type</th>\n",
       "      <th>sex_upon_intake</th>\n",
       "      <th>age_upon_intake</th>\n",
       "      <th>breed</th>\n",
       "      <th>color</th>\n",
       "      <th>...</th>\n",
       "      <th>intake_condition_encoded</th>\n",
       "      <th>animal_type_encoded</th>\n",
       "      <th>sex_upon_intake_encoded</th>\n",
       "      <th>breed_encoded</th>\n",
       "      <th>color_encoded</th>\n",
       "      <th>sex_upon_outcome_encoded</th>\n",
       "      <th>outcome_subtype_encoded</th>\n",
       "      <th>adopted</th>\n",
       "      <th>death</th>\n",
       "      <th>transfered</th>\n",
       "    </tr>\n",
       "  </thead>\n",
       "  <tbody>\n",
       "    <tr>\n",
       "      <th>110679</th>\n",
       "      <td>A733324</td>\n",
       "      <td>2016-08-20 12:30:00</td>\n",
       "      <td>11752 Von Quintus Dr in Austin (TX)</td>\n",
       "      <td>Stray</td>\n",
       "      <td>Normal</td>\n",
       "      <td>Dog</td>\n",
       "      <td>Intact Male</td>\n",
       "      <td>1 month</td>\n",
       "      <td>Rat Terrier Mix</td>\n",
       "      <td>Black/White</td>\n",
       "      <td>...</td>\n",
       "      <td>10</td>\n",
       "      <td>2</td>\n",
       "      <td>1</td>\n",
       "      <td>2113</td>\n",
       "      <td>59</td>\n",
       "      <td>2</td>\n",
       "      <td>10</td>\n",
       "      <td>1</td>\n",
       "      <td>0</td>\n",
       "      <td>0</td>\n",
       "    </tr>\n",
       "    <tr>\n",
       "      <th>77632</th>\n",
       "      <td>A706156</td>\n",
       "      <td>2015-06-25 15:15:00</td>\n",
       "      <td>Farm To Market 620 N &amp; Hudson Bend Rd in Austi...</td>\n",
       "      <td>Stray</td>\n",
       "      <td>Normal</td>\n",
       "      <td>Cat</td>\n",
       "      <td>Intact Male</td>\n",
       "      <td>1 month</td>\n",
       "      <td>Domestic Shorthair Mix</td>\n",
       "      <td>Brown Tabby/White</td>\n",
       "      <td>...</td>\n",
       "      <td>10</td>\n",
       "      <td>1</td>\n",
       "      <td>1</td>\n",
       "      <td>1127</td>\n",
       "      <td>171</td>\n",
       "      <td>2</td>\n",
       "      <td>19</td>\n",
       "      <td>0</td>\n",
       "      <td>0</td>\n",
       "      <td>1</td>\n",
       "    </tr>\n",
       "    <tr>\n",
       "      <th>176479</th>\n",
       "      <td>A852394</td>\n",
       "      <td>2022-03-02 12:56:00</td>\n",
       "      <td>1156 West Cesar Chavez Street in Austin (TX)</td>\n",
       "      <td>Stray</td>\n",
       "      <td>Normal</td>\n",
       "      <td>Cat</td>\n",
       "      <td>Intact Female</td>\n",
       "      <td>10 months</td>\n",
       "      <td>Domestic Shorthair</td>\n",
       "      <td>Tortie</td>\n",
       "      <td>...</td>\n",
       "      <td>10</td>\n",
       "      <td>1</td>\n",
       "      <td>0</td>\n",
       "      <td>1126</td>\n",
       "      <td>480</td>\n",
       "      <td>3</td>\n",
       "      <td>19</td>\n",
       "      <td>0</td>\n",
       "      <td>0</td>\n",
       "      <td>1</td>\n",
       "    </tr>\n",
       "    <tr>\n",
       "      <th>80305</th>\n",
       "      <td>A703780</td>\n",
       "      <td>2015-05-28 18:01:00</td>\n",
       "      <td>1200 Mearns Meadow Blvd in Austin (TX)</td>\n",
       "      <td>Stray</td>\n",
       "      <td>Normal</td>\n",
       "      <td>Dog</td>\n",
       "      <td>Intact Female</td>\n",
       "      <td>1 year</td>\n",
       "      <td>Chihuahua Shorthair/Dachshund</td>\n",
       "      <td>Black/Tan</td>\n",
       "      <td>...</td>\n",
       "      <td>10</td>\n",
       "      <td>2</td>\n",
       "      <td>0</td>\n",
       "      <td>818</td>\n",
       "      <td>56</td>\n",
       "      <td>3</td>\n",
       "      <td>16</td>\n",
       "      <td>1</td>\n",
       "      <td>0</td>\n",
       "      <td>0</td>\n",
       "    </tr>\n",
       "    <tr>\n",
       "      <th>121037</th>\n",
       "      <td>A779201</td>\n",
       "      <td>2018-08-27 12:52:00</td>\n",
       "      <td>Austin (TX)</td>\n",
       "      <td>Owner Surrender</td>\n",
       "      <td>Normal</td>\n",
       "      <td>Cat</td>\n",
       "      <td>Spayed Female</td>\n",
       "      <td>3 years</td>\n",
       "      <td>Domestic Shorthair Mix</td>\n",
       "      <td>Black</td>\n",
       "      <td>...</td>\n",
       "      <td>10</td>\n",
       "      <td>1</td>\n",
       "      <td>3</td>\n",
       "      <td>1127</td>\n",
       "      <td>7</td>\n",
       "      <td>3</td>\n",
       "      <td>16</td>\n",
       "      <td>1</td>\n",
       "      <td>0</td>\n",
       "      <td>0</td>\n",
       "    </tr>\n",
       "  </tbody>\n",
       "</table>\n",
       "<p>5 rows × 30 columns</p>\n",
       "</div>"
      ],
      "text/plain": [
       "       animal_id         datetime_in  \\\n",
       "110679   A733324 2016-08-20 12:30:00   \n",
       "77632    A706156 2015-06-25 15:15:00   \n",
       "176479   A852394 2022-03-02 12:56:00   \n",
       "80305    A703780 2015-05-28 18:01:00   \n",
       "121037   A779201 2018-08-27 12:52:00   \n",
       "\n",
       "                                           found_location      intake_type  \\\n",
       "110679                11752 Von Quintus Dr in Austin (TX)            Stray   \n",
       "77632   Farm To Market 620 N & Hudson Bend Rd in Austi...            Stray   \n",
       "176479       1156 West Cesar Chavez Street in Austin (TX)            Stray   \n",
       "80305              1200 Mearns Meadow Blvd in Austin (TX)            Stray   \n",
       "121037                                        Austin (TX)  Owner Surrender   \n",
       "\n",
       "       intake_condition animal_type sex_upon_intake age_upon_intake  \\\n",
       "110679           Normal         Dog     Intact Male         1 month   \n",
       "77632            Normal         Cat     Intact Male         1 month   \n",
       "176479           Normal         Cat   Intact Female       10 months   \n",
       "80305            Normal         Dog   Intact Female          1 year   \n",
       "121037           Normal         Cat   Spayed Female         3 years   \n",
       "\n",
       "                                breed              color  ...  \\\n",
       "110679                Rat Terrier Mix        Black/White  ...   \n",
       "77632          Domestic Shorthair Mix  Brown Tabby/White  ...   \n",
       "176479             Domestic Shorthair             Tortie  ...   \n",
       "80305   Chihuahua Shorthair/Dachshund          Black/Tan  ...   \n",
       "121037         Domestic Shorthair Mix              Black  ...   \n",
       "\n",
       "       intake_condition_encoded animal_type_encoded sex_upon_intake_encoded  \\\n",
       "110679                       10                   2                       1   \n",
       "77632                        10                   1                       1   \n",
       "176479                       10                   1                       0   \n",
       "80305                        10                   2                       0   \n",
       "121037                       10                   1                       3   \n",
       "\n",
       "       breed_encoded color_encoded sex_upon_outcome_encoded  \\\n",
       "110679          2113            59                        2   \n",
       "77632           1127           171                        2   \n",
       "176479          1126           480                        3   \n",
       "80305            818            56                        3   \n",
       "121037          1127             7                        3   \n",
       "\n",
       "       outcome_subtype_encoded adopted  death  transfered  \n",
       "110679                      10       1      0           0  \n",
       "77632                       19       0      0           1  \n",
       "176479                      19       0      0           1  \n",
       "80305                       16       1      0           0  \n",
       "121037                      16       1      0           0  \n",
       "\n",
       "[5 rows x 30 columns]"
      ]
     },
     "execution_count": 5,
     "metadata": {},
     "output_type": "execute_result"
    }
   ],
   "source": [
    "train.head()"
   ]
  },
  {
   "cell_type": "code",
   "execution_count": 6,
   "id": "575eb08b",
   "metadata": {},
   "outputs": [],
   "source": [
    "X_cols=['has_name', 'sex_upon_outcome_encoded', \n",
    "        'intake_type_encoded', 'animal_type_encoded']\n",
    "y_col = 'adopted'"
   ]
  },
  {
   "cell_type": "code",
   "execution_count": 7,
   "id": "e8ad09b2",
   "metadata": {},
   "outputs": [],
   "source": [
    "train_X = train[X_cols]\n",
    "train_y = train[y_col]\n",
    "validate_X = validate[X_cols]\n",
    "validate_y = validate[y_col]\n",
    "test_X = test[X_cols]\n",
    "test_y = test[y_col]"
   ]
  },
  {
   "cell_type": "code",
   "execution_count": 8,
   "id": "329f4c03",
   "metadata": {},
   "outputs": [
    {
     "data": {
      "text/plain": [
       "1    74497\n",
       "0    33342\n",
       "Name: adopted, dtype: int64"
      ]
     },
     "execution_count": 8,
     "metadata": {},
     "output_type": "execute_result"
    }
   ],
   "source": [
    "train[y_col].value_counts()"
   ]
  },
  {
   "cell_type": "code",
   "execution_count": 9,
   "id": "4ff4d80c",
   "metadata": {},
   "outputs": [],
   "source": [
    "baseline = [1] * len(train)"
   ]
  },
  {
   "cell_type": "code",
   "execution_count": 10,
   "id": "b071000f",
   "metadata": {},
   "outputs": [
    {
     "data": {
      "text/plain": [
       "True"
      ]
     },
     "execution_count": 10,
     "metadata": {},
     "output_type": "execute_result"
    }
   ],
   "source": [
    "len(baseline) == len(train)"
   ]
  },
  {
   "cell_type": "code",
   "execution_count": 11,
   "id": "bede9b1e",
   "metadata": {},
   "outputs": [
    {
     "name": "stdout",
     "output_type": "stream",
     "text": [
      "The baseline prediction score accuracy is: 69.08%\n"
     ]
    }
   ],
   "source": [
    "print(f'The baseline prediction score accuracy is: \\\n",
    "{(train[y_col] == baseline).mean():.2%}')"
   ]
  },
  {
   "cell_type": "code",
   "execution_count": 26,
   "id": "38d31f3e",
   "metadata": {},
   "outputs": [],
   "source": [
    "def get_baseline(train, y_col):\n",
    "    baseline = [1] * len(train)\n",
    "    print(f'The baseline prediction score accuracy is: \\\n",
    "{(train[y_col] == baseline).mean():.2%}')"
   ]
  },
  {
   "cell_type": "code",
   "execution_count": 28,
   "id": "301b382e",
   "metadata": {},
   "outputs": [
    {
     "name": "stdout",
     "output_type": "stream",
     "text": [
      "The baseline prediction score accuracy is: 69.08%\n"
     ]
    }
   ],
   "source": [
    "get_baseline(train, y_col)"
   ]
  },
  {
   "cell_type": "code",
   "execution_count": 24,
   "id": "e551670c",
   "metadata": {},
   "outputs": [],
   "source": [
    "def get_decision_tree(train_X, validate_X, train_y, validate_y):\n",
    "    '''\n",
    "    This function will use a decision tree machine learning model to predict \n",
    "    customer churn using the columns chosen during the exploration process.\n",
    "    '''\n",
    "    # make the decision tree object\n",
    "    dt = DecisionTreeClassifier(max_depth=6)\n",
    "    # fit the data to the dt object\n",
    "    dt.fit(train_X, train_y)\n",
    "    # predict with the dt object\n",
    "    dt_preds = dt.predict(train_X)\n",
    "    dt_val_preds = dt.predict(validate_X)\n",
    "    # \"Model Type\" \n",
    "    # \"evaluation metric\" on train: \"evaluation result\" \n",
    "    # \"evaluation metric\" on validate: \"evaluation result\"\n",
    "    print('Decision Tree Model')\n",
    "#     print(f'{classification_report(train_y, dt_preds)}')\n",
    "    print(f'Accuracy score on train: {accuracy_score(train_y, dt_preds):.2%}')\n",
    "    print(f'Accuracy score on validate: {accuracy_score(validate_y, dt_val_preds):.2%}')\n",
    "    print(f'Recall score on train: {recall_score(train_y, dt_preds):.2%}')\n",
    "    print(f'Recall score on validate: {recall_score(validate_y, dt_val_preds):.2%}')\n",
    "    # return the decision tree model for use in other functions\n",
    "    return dt"
   ]
  },
  {
   "cell_type": "code",
   "execution_count": 25,
   "id": "2c3455be",
   "metadata": {},
   "outputs": [
    {
     "name": "stdout",
     "output_type": "stream",
     "text": [
      "Decision Tree Model\n",
      "Accuracy score on train: 84.91%\n",
      "Accuracy score on validate: 85.27%\n",
      "Recall score on train: 97.28%\n",
      "Recall score on validate: 97.47%\n"
     ]
    }
   ],
   "source": [
    "dt = get_decision_tree(train_X, validate_X, train_y, validate_y)"
   ]
  },
  {
   "cell_type": "code",
   "execution_count": 16,
   "id": "5decd8d7",
   "metadata": {},
   "outputs": [],
   "source": [
    "def get_random_forest(train_X, validate_X, train_y, validate_y):\n",
    "    '''\n",
    "    This function will use a random forest machine learning model to predict \n",
    "    customer churn using the columns chosen during the exploration process.\n",
    "    '''\n",
    "    # make the decision tree object\n",
    "    rf = RandomForestClassifier()\n",
    "    # fit the data to the rf object\n",
    "    rf.fit(train_X, train_y)\n",
    "    # predict with the rf object\n",
    "    rf_preds = rf.predict(train_X)\n",
    "    rf_val_preds = rf.predict(validate_X)\n",
    "    # \"Model Type\" \n",
    "    # \"evaluation metric\" on train: \"evaluation result\" \n",
    "    # \"evaluation metric\" on validate: \"evaluation result\"\n",
    "    print('Random Forest Model')\n",
    "    print(f'Accuracy score on train: {accuracy_score(train_y, rf_preds):.2%}')\n",
    "    print(f'Accuracy score on validate: {accuracy_score(validate_y, rf_val_preds):.2%}')\n",
    "    print(f'Recall score on train: {recall_score(train_y, rf_preds):.2%}')\n",
    "    print(f'Recall score on validate: {recall_score(validate_y, rf_val_preds):.2%}')\n",
    "    # return the random forest model for use in other functions\n",
    "    return rf"
   ]
  },
  {
   "cell_type": "code",
   "execution_count": 17,
   "id": "cbb9ff1f",
   "metadata": {},
   "outputs": [
    {
     "name": "stdout",
     "output_type": "stream",
     "text": [
      "Random Forest Model\n",
      "Accuracy score on train: 84.96%\n",
      "Accuracy score on validate: 85.29%\n",
      "Recall score on train: 97.30%\n",
      "Recall score on validate: 97.50%\n"
     ]
    }
   ],
   "source": [
    "rf = get_random_forest(train_X, validate_X, train_y, validate_y)"
   ]
  },
  {
   "cell_type": "code",
   "execution_count": 18,
   "id": "cc2a3152",
   "metadata": {},
   "outputs": [],
   "source": [
    "def get_logistic_regression(train_X, validate_X, train_y, validate_y):\n",
    "    '''\n",
    "    This function will use a logistic regression machine learning model to predict \n",
    "    customer churn using the columns chosen during the exploration process.\n",
    "    '''\n",
    "    # make the decision tree object\n",
    "    lr = LogisticRegression()\n",
    "    # fit the data to the lr object\n",
    "    lr.fit(train_X, train_y)\n",
    "    # predict with the lr object\n",
    "    lr_preds = lr.predict(train_X)\n",
    "    lr_val_preds = lr.predict(validate_X)\n",
    "    # \"Model Type\" \n",
    "    # \"evaluation metric\" on train: \"evaluation result\" \n",
    "    # \"evaluation metric\" on validate: \"evaluation result\"\n",
    "    print('Logistic Regression Model')\n",
    "    print(f'Accuracy score on train: {accuracy_score(train_y, lr_preds):.2%}')\n",
    "    print(f'Accuracy score on validate: {accuracy_score(validate_y, lr_val_preds):.2%}')\n",
    "    print(f'Recall score on train: {recall_score(train_y, lr_preds):.2%}')\n",
    "    print(f'Recall score on validate: {recall_score(validate_y, lr_val_preds):.2%}')\n",
    "    # return the logistic regression model for use in other functions\n",
    "    return lr"
   ]
  },
  {
   "cell_type": "code",
   "execution_count": 19,
   "id": "4f51a499",
   "metadata": {},
   "outputs": [
    {
     "name": "stdout",
     "output_type": "stream",
     "text": [
      "Logistic Regression Model\n",
      "Accuracy score on train: 76.40%\n",
      "Accuracy score on validate: 76.79%\n",
      "Recall score on train: 90.36%\n",
      "Recall score on validate: 90.53%\n"
     ]
    }
   ],
   "source": [
    "lr = get_logistic_regression(train_X, validate_X, train_y, validate_y)"
   ]
  },
  {
   "cell_type": "code",
   "execution_count": 20,
   "id": "a7bf01fa",
   "metadata": {},
   "outputs": [],
   "source": [
    "def get_rf_test(test_X, test_y, rf):\n",
    "    '''\n",
    "    This function will take in a random forest model in order to predict customer\n",
    "    churn rate using the test data.\n",
    "    '''\n",
    "    # make a prediction using the test data and passed rf model\n",
    "    rf_test_preds = rf.predict(test_X)\n",
    "    # print the recall score for the test data\n",
    "    print('Random Forest Model')\n",
    "    print(f'Accuracy score on test: {accuracy_score(test_y, rf_test_preds):.2%}')\n",
    "    print(f'Recall score on test: {recall_score(test_y, rf_test_preds):.2%}')"
   ]
  },
  {
   "cell_type": "code",
   "execution_count": 21,
   "id": "2453af34",
   "metadata": {},
   "outputs": [
    {
     "name": "stdout",
     "output_type": "stream",
     "text": [
      "Random Forest Model\n",
      "Accuracy score on test: 85.00%\n",
      "Recall score on test: 97.14%\n"
     ]
    }
   ],
   "source": [
    "get_rf_test(test_X, test_y, rf)"
   ]
  },
  {
   "cell_type": "code",
   "execution_count": 22,
   "id": "4a159625",
   "metadata": {},
   "outputs": [
    {
     "data": {
      "text/html": [
       "<div>\n",
       "<style scoped>\n",
       "    .dataframe tbody tr th:only-of-type {\n",
       "        vertical-align: middle;\n",
       "    }\n",
       "\n",
       "    .dataframe tbody tr th {\n",
       "        vertical-align: top;\n",
       "    }\n",
       "\n",
       "    .dataframe thead th {\n",
       "        text-align: right;\n",
       "    }\n",
       "</style>\n",
       "<table border=\"1\" class=\"dataframe\">\n",
       "  <thead>\n",
       "    <tr style=\"text-align: right;\">\n",
       "      <th></th>\n",
       "      <th>animal_id</th>\n",
       "      <th>death</th>\n",
       "      <th>prediction_of_adoption</th>\n",
       "      <th>probability_of_adoption</th>\n",
       "    </tr>\n",
       "  </thead>\n",
       "  <tbody>\n",
       "    <tr>\n",
       "      <th>0</th>\n",
       "      <td>A820063</td>\n",
       "      <td>0</td>\n",
       "      <td>0</td>\n",
       "      <td>0.024039</td>\n",
       "    </tr>\n",
       "    <tr>\n",
       "      <th>1</th>\n",
       "      <td>A552798</td>\n",
       "      <td>0</td>\n",
       "      <td>1</td>\n",
       "      <td>0.881092</td>\n",
       "    </tr>\n",
       "    <tr>\n",
       "      <th>2</th>\n",
       "      <td>A802391</td>\n",
       "      <td>0</td>\n",
       "      <td>1</td>\n",
       "      <td>0.889022</td>\n",
       "    </tr>\n",
       "    <tr>\n",
       "      <th>3</th>\n",
       "      <td>A828829</td>\n",
       "      <td>0</td>\n",
       "      <td>1</td>\n",
       "      <td>0.908354</td>\n",
       "    </tr>\n",
       "    <tr>\n",
       "      <th>4</th>\n",
       "      <td>A833771</td>\n",
       "      <td>0</td>\n",
       "      <td>0</td>\n",
       "      <td>0.401824</td>\n",
       "    </tr>\n",
       "    <tr>\n",
       "      <th>...</th>\n",
       "      <td>...</td>\n",
       "      <td>...</td>\n",
       "      <td>...</td>\n",
       "      <td>...</td>\n",
       "    </tr>\n",
       "    <tr>\n",
       "      <th>38510</th>\n",
       "      <td>A842931</td>\n",
       "      <td>0</td>\n",
       "      <td>1</td>\n",
       "      <td>0.852408</td>\n",
       "    </tr>\n",
       "    <tr>\n",
       "      <th>38511</th>\n",
       "      <td>A821331</td>\n",
       "      <td>0</td>\n",
       "      <td>1</td>\n",
       "      <td>0.888133</td>\n",
       "    </tr>\n",
       "    <tr>\n",
       "      <th>38512</th>\n",
       "      <td>A837945</td>\n",
       "      <td>0</td>\n",
       "      <td>1</td>\n",
       "      <td>0.862454</td>\n",
       "    </tr>\n",
       "    <tr>\n",
       "      <th>38513</th>\n",
       "      <td>A839317</td>\n",
       "      <td>0</td>\n",
       "      <td>1</td>\n",
       "      <td>0.673441</td>\n",
       "    </tr>\n",
       "    <tr>\n",
       "      <th>38514</th>\n",
       "      <td>A722079</td>\n",
       "      <td>0</td>\n",
       "      <td>1</td>\n",
       "      <td>0.862454</td>\n",
       "    </tr>\n",
       "  </tbody>\n",
       "</table>\n",
       "<p>38515 rows × 4 columns</p>\n",
       "</div>"
      ],
      "text/plain": [
       "      animal_id  death  prediction_of_adoption  probability_of_adoption\n",
       "0       A820063      0                       0                 0.024039\n",
       "1       A552798      0                       1                 0.881092\n",
       "2       A802391      0                       1                 0.889022\n",
       "3       A828829      0                       1                 0.908354\n",
       "4       A833771      0                       0                 0.401824\n",
       "...         ...    ...                     ...                      ...\n",
       "38510   A842931      0                       1                 0.852408\n",
       "38511   A821331      0                       1                 0.888133\n",
       "38512   A837945      0                       1                 0.862454\n",
       "38513   A839317      0                       1                 0.673441\n",
       "38514   A722079      0                       1                 0.862454\n",
       "\n",
       "[38515 rows x 4 columns]"
      ]
     },
     "execution_count": 22,
     "metadata": {},
     "output_type": "execute_result"
    }
   ],
   "source": [
    "# create a df with predictions from the test data\n",
    "predictions = pd.concat([\n",
    "    # get the customer_ids, and reset the index to ordered 0-1408, dropping the old index\n",
    "    pd.DataFrame(test.animal_id).reset_index().drop(columns='index'),\n",
    "    pd.DataFrame(test.death).reset_index().drop(columns='index'),\n",
    "    # get the churn prediction from the final random forest ml model\n",
    "    pd.DataFrame(rf.predict(test_X)).rename(columns={0:'prediction_of_adoption'}),\n",
    "    # get the churn probability predicitons from the final random forest model\n",
    "    pd.DataFrame(rf.predict_proba(\n",
    "        # drop the no_adopted probalities since it is not needed\n",
    "        test_X)).drop(columns=0).rename(\n",
    "        # rename the column\n",
    "        columns={1:'probability_of_adoption'})\n",
    "    \n",
    "],axis=1)\n",
    "predictions"
   ]
  },
  {
   "cell_type": "code",
   "execution_count": 23,
   "id": "b8b72129",
   "metadata": {},
   "outputs": [],
   "source": [
    "def get_pred_error_plot(predictions):\n",
    "    '''\n",
    "    This function will take in a DataFrame containing the actual quality scores \n",
    "    and predicted quality scores generated from the test dataset, it will then\n",
    "    display a plot the error of the wine quality predictions\n",
    "    '''\n",
    "    # set figure size\n",
    "    plt.figure(figsize=(16,12))\n",
    "    # create a line at zero error\n",
    "    plt.axhline(label=\"No Error\")\n",
    "    # create a scatter plot with the error amounts\n",
    "    plt.scatter(predictions.iloc[:,0], (predictions.iloc[:,2] - predictions.iloc[:,1]), \n",
    "                alpha=.5, color=\"grey\", s=100, label=\"Model 2nd degree Polynomial\")\n",
    "    # change the x and y labels and label sizes\n",
    "    plt.xlabel('Actual Wine Quality', size=14)\n",
    "    plt.ylabel('Error of Predicted Wine Qualities', size=14)\n",
    "    # add a title to the plot\n",
    "    plt.title('Prediction Error of Polynomial Regression Model', size=16)\n",
    "    # create a legend\n",
    "    plt.legend(loc=1)\n",
    "    # display the plot\n",
    "    plt.show()"
   ]
  }
 ],
 "metadata": {
  "kernelspec": {
   "display_name": "Python 3 (ipykernel)",
   "language": "python",
   "name": "python3"
  },
  "language_info": {
   "codemirror_mode": {
    "name": "ipython",
    "version": 3
   },
   "file_extension": ".py",
   "mimetype": "text/x-python",
   "name": "python",
   "nbconvert_exporter": "python",
   "pygments_lexer": "ipython3",
   "version": "3.9.13"
  }
 },
 "nbformat": 4,
 "nbformat_minor": 5
}
